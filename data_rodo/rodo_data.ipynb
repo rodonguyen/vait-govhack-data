{
 "cells": [
  {
   "cell_type": "code",
   "execution_count": null,
   "source": [
    "# DHPW data\r\n",
    "# https://www.data.qld.gov.au/dataset/contract-disclosure-report-dsdsatsip\r\n",
    "import pandas as pd\r\n",
    "df = pd.read_csv('dsdsatsip_contract-disclosure-report(1).csv', engine='python')\r\n",
    "df"
   ],
   "outputs": [],
   "metadata": {}
  },
  {
   "cell_type": "code",
   "execution_count": null,
   "source": [
    "bullet = df[\"Contract description/name\"].value_counts()\r\n",
    "print(bullet)\r\n"
   ],
   "outputs": [],
   "metadata": {}
  },
  {
   "cell_type": "code",
   "execution_count": null,
   "source": [
    "len(df)"
   ],
   "outputs": [],
   "metadata": {}
  },
  {
   "cell_type": "code",
   "execution_count": null,
   "source": [
    "for i in range(1, len(df)):\r\n",
    "    desp = df.loc[i,\"Contract description/name\"]\r\n",
    "    print(desp)  # row i column \"Contract description/name\"\r\n",
    "\r\n",
    "    # remove stop word and char\r\n",
    "    desp = desp.replace(',', '')\r\n",
    "    desp = desp.replace(' and ', ' ')\r\n",
    "    print('===>', desp)"
   ],
   "outputs": [],
   "metadata": {}
  },
  {
   "cell_type": "code",
   "execution_count": null,
   "source": [
    "import numpy as np \r\n",
    "\r\n",
    "desp = desp.split(' ')\r\n",
    "print(desp)\r\n",
    "\r\n",
    "# allword = np.array([])\r\n",
    "# allword = np.append(allword, desp)\r\n",
    "# print(allword)"
   ],
   "outputs": [],
   "metadata": {}
  },
  {
   "cell_type": "code",
   "execution_count": null,
   "source": [
    "allword = {}\r\n",
    "for word in desp:\r\n",
    "    allword[word] = 0\r\n",
    "\r\n",
    "print(allword.keys(), allword.values())"
   ],
   "outputs": [],
   "metadata": {}
  },
  {
   "cell_type": "markdown",
   "source": [
    "# **Combine things**\r\n"
   ],
   "metadata": {}
  },
  {
   "cell_type": "code",
   "execution_count": null,
   "source": [
    "allword = {}\r\n",
    "\r\n",
    "for i in range(1, len(df)):\r\n",
    "    desp = df.loc[i,\"Contract description/name\"] # row i column \"Contract description/name\"\r\n",
    "    contractValue = df.loc[i,\"Contract value\"] # row i column \"Contract value\"\r\n",
    "    print(desp)  \r\n",
    "\r\n",
    "    # remove stop word and char\r\n",
    "    desp = desp.replace(',', '')\r\n",
    "    desp = desp.replace(' and ', ' ')\r\n",
    "\r\n",
    "    desp = desp.split(' ')\r\n",
    "\r\n",
    "    # Lower case the list\r\n",
    "    desp = [x.lower() for x in desp]\r\n",
    "\r\n",
    "    # Add word, value to the dictionary\r\n",
    "    for word in desp:\r\n",
    "        if (word not in allword.keys()):\r\n",
    "            allword[word] = int(contractValue.replace(',', ''))\r\n",
    "        else: allword[word] += int(contractValue.replace(',', ''))"
   ],
   "outputs": [],
   "metadata": {}
  },
  {
   "cell_type": "code",
   "execution_count": null,
   "source": [
    "# Shorten the value\r\n",
    "for word, value in allword.items():\r\n",
    "    print(word, value)\r\n",
    "    allword[word] = round(value/10000)\r\n",
    "\r\n",
    "allword"
   ],
   "outputs": [],
   "metadata": {}
  }
 ],
 "metadata": {
  "kernelspec": {
   "name": "python3",
   "display_name": "Python 3.8.5 64-bit ('base': conda)"
  },
  "language_info": {
   "codemirror_mode": {
    "name": "ipython",
    "version": 3
   },
   "file_extension": ".py",
   "mimetype": "text/x-python",
   "name": "python",
   "nbconvert_exporter": "python",
   "pygments_lexer": "ipython3",
   "version": "3.8.5"
  },
  "interpreter": {
   "hash": "b3ba2566441a7c06988d0923437866b63cedc61552a5af99d1f4fb67d367b25f"
  }
 },
 "nbformat": 4,
 "nbformat_minor": 4
}